{
 "cells": [
  {
   "cell_type": "code",
   "execution_count": 1,
   "metadata": {},
   "outputs": [
    {
     "data": {
      "text/plain": [
       "True"
      ]
     },
     "execution_count": 1,
     "metadata": {},
     "output_type": "execute_result"
    }
   ],
   "source": [
    "from langchain_core.prompts import ChatPromptTemplate\n",
    "\n",
    "from dotenv import load_dotenv\n",
    "\n",
    "load_dotenv()"
   ]
  },
  {
   "cell_type": "code",
   "execution_count": 2,
   "metadata": {},
   "outputs": [],
   "source": [
    "prompt = ChatPromptTemplate.from_template(\"Tell me an interesting fact about {topic}\")"
   ]
  },
  {
   "cell_type": "code",
   "execution_count": 3,
   "metadata": {},
   "outputs": [
    {
     "name": "stdout",
     "output_type": "stream",
     "text": [
      "messages=[HumanMessage(content='Tell me an interesting fact about dog', additional_kwargs={}, response_metadata={})]\n"
     ]
    }
   ],
   "source": [
    "prompt_val = prompt.invoke({\"topic\": \"dog\"})\n",
    "print(prompt_val)"
   ]
  },
  {
   "cell_type": "code",
   "execution_count": 4,
   "metadata": {},
   "outputs": [
    {
     "name": "stdout",
     "output_type": "stream",
     "text": [
      "[HumanMessage(content='Tell me an interesting fact about dog', additional_kwargs={}, response_metadata={})]\n"
     ]
    }
   ],
   "source": [
    "print(prompt_val.to_messages())"
   ]
  },
  {
   "cell_type": "code",
   "execution_count": 5,
   "metadata": {},
   "outputs": [
    {
     "data": {
      "text/plain": [
       "AIMessage(content='One interesting fact about dogs is that they have an extraordinary sense of smell, which is estimated to be between 10,000 to 100,000 times more sensitive than that of humans. This remarkable olfactory capability allows them to detect specific scents at incredibly low concentrations, making them indispensable in various roles, such as search and rescue, detecting drugs, and even identifying medical conditions like certain cancers or diabetes through scent. Their sense of smell plays a vital role in their communication and interaction with the world around them.', additional_kwargs={'refusal': None}, response_metadata={'token_usage': {'completion_tokens': 102, 'prompt_tokens': 14, 'total_tokens': 116, 'completion_tokens_details': {'accepted_prediction_tokens': 0, 'audio_tokens': 0, 'reasoning_tokens': 0, 'rejected_prediction_tokens': 0}, 'prompt_tokens_details': {'audio_tokens': 0, 'cached_tokens': 0}}, 'model_name': 'gpt-4o-mini-2024-07-18', 'system_fingerprint': 'fp_34a54ae93c', 'id': 'chatcmpl-C481ouiqN6BmLDbioN6mhmQ41IF44', 'service_tier': 'default', 'finish_reason': 'stop', 'logprobs': None}, id='run--5a6cc768-ae8d-4913-9901-39faabf71873-0', usage_metadata={'input_tokens': 14, 'output_tokens': 102, 'total_tokens': 116, 'input_token_details': {'audio': 0, 'cache_read': 0}, 'output_token_details': {'audio': 0, 'reasoning': 0}})"
      ]
     },
     "execution_count": 5,
     "metadata": {},
     "output_type": "execute_result"
    }
   ],
   "source": [
    "from langchain_openai import ChatOpenAI\n",
    "\n",
    "model = ChatOpenAI(model=\"gpt-4o-mini\")\n",
    "result = model.invoke(prompt_val)\n",
    "result"
   ]
  },
  {
   "cell_type": "code",
   "execution_count": 7,
   "metadata": {},
   "outputs": [
    {
     "data": {
      "text/plain": [
       "'One interesting fact about dogs is that they have an extraordinary sense of smell, which is estimated to be between 10,000 to 100,000 times more sensitive than that of humans. This remarkable olfactory capability allows them to detect specific scents at incredibly low concentrations, making them indispensable in various roles, such as search and rescue, detecting drugs, and even identifying medical conditions like certain cancers or diabetes through scent. Their sense of smell plays a vital role in their communication and interaction with the world around them.'"
      ]
     },
     "execution_count": 7,
     "metadata": {},
     "output_type": "execute_result"
    }
   ],
   "source": [
    "from langchain_core.output_parsers import StrOutputParser\n",
    "\n",
    "output_parser = StrOutputParser()\n",
    "output_parser.invoke(result)"
   ]
  },
  {
   "cell_type": "markdown",
   "metadata": {},
   "source": [
    "### Now let´s do this LCEL"
   ]
  },
  {
   "cell_type": "code",
   "execution_count": 8,
   "metadata": {},
   "outputs": [],
   "source": [
    "prompt = ChatPromptTemplate.from_template(\"Tell me an interesting fact about {topic}\")\n",
    "model = ChatOpenAI(model=\"gpt-4o-mini\")\n",
    "output_parser = StrOutputParser()\n",
    "\n",
    "basicchain = model | output_parser"
   ]
  },
  {
   "cell_type": "code",
   "execution_count": 9,
   "metadata": {},
   "outputs": [
    {
     "data": {
      "text/plain": [
       "'Hello! How can I assist you today?'"
      ]
     },
     "execution_count": 9,
     "metadata": {},
     "output_type": "execute_result"
    }
   ],
   "source": [
    "basicchain.invoke(\"hello!\")"
   ]
  },
  {
   "cell_type": "code",
   "execution_count": 10,
   "metadata": {},
   "outputs": [
    {
     "data": {
      "text/plain": [
       "'One interesting fact about dogs is that they have an extraordinary sense of smell, which is estimated to be between 10,000 to 100,000 times more acute than that of humans. This incredible olfactory ability allows them to detect various scents, including those related to emotions, health conditions, and even certain diseases like cancer and diabetes. This unique skill is why dogs are often used in search-and-rescue operations, in detecting drugs, and in various therapeutic roles.'"
      ]
     },
     "execution_count": 10,
     "metadata": {},
     "output_type": "execute_result"
    }
   ],
   "source": [
    "chain = prompt | model | output_parser\n",
    "\n",
    "chain.invoke({\"topic\": \"dog\"})"
   ]
  },
  {
   "cell_type": "markdown",
   "metadata": {},
   "source": [
    "### Most important methods of the Runnable Interface (Stream, Invoke, Batch)"
   ]
  },
  {
   "cell_type": "code",
   "execution_count": 12,
   "metadata": {},
   "outputs": [
    {
     "name": "stdout",
     "output_type": "stream",
     "text": [
      "An interesting fact about bears is that they have an incredible sense of smell—it's estimated to be seven times stronger than that of a bloodhound! This extraordinary olfactory capability allows them to detect food sources from great distances, sometimes even miles away. This keen sense of smell plays a crucial role in their hunting and foraging behavior, as they can locate carrion, berries, and other food sources with remarkable accuracy."
     ]
    }
   ],
   "source": [
    "for s in chain.stream({\"topic\": \"bears\"}):\n",
    "    print(s, end=\"\", flush=True)"
   ]
  },
  {
   "cell_type": "code",
   "execution_count": 13,
   "metadata": {},
   "outputs": [
    {
     "data": {
      "text/plain": [
       "\"One interesting fact about bears is that they have an incredible sense of smell—up to seven times better than that of a bloodhound! This acute olfactory ability allows them to detect food from miles away and is essential for their survival, especially during foraging and finding mates. In fact, a bear's sense of smell can help them sniff out food sources that are buried deep under snow or even detect other bears from long distances.\""
      ]
     },
     "execution_count": 13,
     "metadata": {},
     "output_type": "execute_result"
    }
   ],
   "source": [
    "chain.invoke({\"topic\": \"bears\"})"
   ]
  },
  {
   "cell_type": "code",
   "execution_count": 14,
   "metadata": {},
   "outputs": [
    {
     "data": {
      "text/plain": [
       "['Bears have an impressive sense of smell; it is estimated to be 7 times better than that of a bloodhound! This exceptional olfactory ability aids them in finding food over long distances, detecting predators, and even locating mates. Some research suggests that a bear can smell food from up to 20 miles away, making them incredibly adept at locating potential meals in their vast habitats.',\n",
       " 'One interesting fact about cats is that they have a unique grooming behavior that serves multiple purposes. Cats spend a significant portion of their day—up to 50%—grooming themselves. This not only helps keep their fur clean and free of parasites but also has a calming effect, reducing stress and anxiety. Moreover, grooming helps distribute natural oils in their fur, keeping it healthy and waterproof. Additionally, when cats groom each other, a behavior known as allogrooming, it strengthens social bonds among them.']"
      ]
     },
     "execution_count": 14,
     "metadata": {},
     "output_type": "execute_result"
    }
   ],
   "source": [
    "chain.batch([{\"topic\": \"bears\"}, {\"topic\": \"cats\"}])"
   ]
  },
  {
   "cell_type": "code",
   "execution_count": 15,
   "metadata": {},
   "outputs": [
    {
     "name": "stdout",
     "output_type": "stream",
     "text": [
      "One interesting fact about bears is that they have an incredible sense of smell—up to seven times better than that of a bloodhound! This heightened olfactory ability allows them to detect food, locate mates, and sense danger from miles away. Some bears can smell food from over a mile away, which is why they are often successful foragers in the wild. Their sense of smell plays a critical role in their survival and behavior."
     ]
    }
   ],
   "source": [
    "async for s in chain.astream({\"topic\": \"bears\"}):\n",
    "    print(s, end=\"\", flush=True)"
   ]
  },
  {
   "cell_type": "code",
   "execution_count": 16,
   "metadata": {},
   "outputs": [
    {
     "data": {
      "text/plain": [
       "'One interesting fact about bears is that they are excellent swimmers! Many species of bears, including grizzly bears and polar bears, can swim for long distances in search of food or to cross rivers and lakes. Polar bears are particularly adapted to swimming, with large, paddle-like forelimbs and a thick layer of fat that helps keep them buoyant and insulated in icy waters. Some polar bears have been known to swim continuously for several days, covering distances of over 60 miles (97 kilometers) without resting!'"
      ]
     },
     "execution_count": 16,
     "metadata": {},
     "output_type": "execute_result"
    }
   ],
   "source": [
    "await chain.ainvoke({\"topic\": \"bears\"})"
   ]
  },
  {
   "cell_type": "code",
   "execution_count": 17,
   "metadata": {},
   "outputs": [
    {
     "data": {
      "text/plain": [
       "['One interesting fact about bears is that they have an incredible sense of smell, which is significantly stronger than that of dogs. In fact, a bear’s sense of smell can be up to 7 times stronger than that of a bloodhound. This allows bears to detect food sources from miles away and can help them locate mates or avoid danger. Their keen sense of smell plays a crucial role in their survival and foraging behavior.',\n",
       " \"One interesting fact about cats is that they have a unique collarbone (clavicle) structure that allows them to fit through tight spaces. Unlike dogs, cats' collarbones are not connected to other bones but are instead attached to the muscles of the shoulder. This anatomical feature gives them incredible flexibility and the ability to squeeze through openings as small as their head, which is one reason they are such agile hunters. This trait is also why they can often be seen maneuvering through narrow gaps and spaces around the house!\"]"
      ]
     },
     "execution_count": 17,
     "metadata": {},
     "output_type": "execute_result"
    }
   ],
   "source": [
    "await chain.abatch([{\"topic\": \"bears\"}, {\"topic\": \"cats\"}])"
   ]
  },
  {
   "cell_type": "markdown",
   "metadata": {},
   "source": [
    "### Retrieval Augmented Generation with LCEL"
   ]
  },
  {
   "cell_type": "code",
   "execution_count": 20,
   "metadata": {},
   "outputs": [],
   "source": [
    "from langchain.schema import Document\n",
    "from langchain_openai import OpenAIEmbeddings\n",
    "from langchain_community.vectorstores import Chroma\n",
    "from langchain_core.runnables import RunnablePassthrough\n",
    "\n",
    "embedding_function = OpenAIEmbeddings()\n",
    "\n",
    "docs = [\n",
    "    Document(\n",
    "        page_content=\"the dog loves to eat pizza\", metadata={\"source\": \"animal.txt\"}\n",
    "    ),\n",
    "    Document(\n",
    "        page_content=\"the cat loves to eat lasagna\", metadata={\"source\": \"animal.txt\"}\n",
    "    ),\n",
    "]\n",
    "\n",
    "\n",
    "db = Chroma.from_documents(docs, embedding_function)\n",
    "retriever = db.as_retriever()"
   ]
  },
  {
   "cell_type": "code",
   "execution_count": 21,
   "metadata": {},
   "outputs": [
    {
     "data": {
      "text/plain": [
       "[Document(metadata={'source': 'animal.txt'}, page_content='the dog loves to eat pizza'),\n",
       " Document(metadata={'source': 'animal.txt'}, page_content='the cat loves to eat lasagna')]"
      ]
     },
     "execution_count": 21,
     "metadata": {},
     "output_type": "execute_result"
    }
   ],
   "source": [
    "retriever.invoke(\"What does the dog want to eat?\")  # old method"
   ]
  },
  {
   "cell_type": "code",
   "execution_count": 22,
   "metadata": {},
   "outputs": [
    {
     "data": {
      "text/plain": [
       "[Document(metadata={'source': 'animal.txt'}, page_content='the dog loves to eat pizza'),\n",
       " Document(metadata={'source': 'animal.txt'}, page_content='the cat loves to eat lasagna')]"
      ]
     },
     "execution_count": 22,
     "metadata": {},
     "output_type": "execute_result"
    }
   ],
   "source": [
    "retriever.invoke(\"What does the dog want to eat?\")"
   ]
  },
  {
   "cell_type": "code",
   "execution_count": 23,
   "metadata": {},
   "outputs": [],
   "source": [
    "template = \"\"\"Answer the question based only on the following context:\n",
    "{context}\n",
    "\n",
    "Question: {question}\n",
    "\"\"\"\n",
    "prompt = ChatPromptTemplate.from_template(template)\n",
    "model = ChatOpenAI(model=\"gpt-4o-mini\")"
   ]
  },
  {
   "cell_type": "code",
   "execution_count": 24,
   "metadata": {},
   "outputs": [],
   "source": [
    "from operator import itemgetter\n",
    "\n",
    "retrieval_chain = (\n",
    "    {\n",
    "        \"context\": (lambda x: x[\"question\"]) | retriever,\n",
    "        # \"question\": lambda x: x[\"question\"],\n",
    "        \"question\": itemgetter(\"question\"),\n",
    "    }\n",
    "    | prompt\n",
    "    | model\n",
    "    | StrOutputParser()\n",
    ")"
   ]
  },
  {
   "cell_type": "code",
   "execution_count": 25,
   "metadata": {},
   "outputs": [
    {
     "data": {
      "text/plain": [
       "'The dog likes to eat pizza.'"
      ]
     },
     "execution_count": 25,
     "metadata": {},
     "output_type": "execute_result"
    }
   ],
   "source": [
    "retrieval_chain.invoke({\"question\": \"What does the dog like to eat?\"})"
   ]
  },
  {
   "cell_type": "code",
   "execution_count": 26,
   "metadata": {},
   "outputs": [],
   "source": [
    "template = \"\"\"Answer the question based only on the following context:\n",
    "{context}\n",
    "\n",
    "Question: {question}\n",
    "\"\"\"\n",
    "prompt = ChatPromptTemplate.from_template(template)\n",
    "model = ChatOpenAI(model=\"gpt-4o-mini\")\n",
    "\n",
    "retrieval_chain = (\n",
    "    {\"context\": retriever, \"question\": RunnablePassthrough()}\n",
    "    | prompt\n",
    "    | model\n",
    "    | StrOutputParser()\n",
    ")"
   ]
  },
  {
   "cell_type": "code",
   "execution_count": 27,
   "metadata": {},
   "outputs": [
    {
     "data": {
      "text/plain": [
       "'The dog likes to eat pizza.'"
      ]
     },
     "execution_count": 27,
     "metadata": {},
     "output_type": "execute_result"
    }
   ],
   "source": [
    "retrieval_chain.invoke(\"What does the dog like to eat?\")"
   ]
  }
 ],
 "metadata": {
  "kernelspec": {
   "display_name": "udemycourse",
   "language": "python",
   "name": "python3"
  },
  "language_info": {
   "codemirror_mode": {
    "name": "ipython",
    "version": 3
   },
   "file_extension": ".py",
   "mimetype": "text/x-python",
   "name": "python",
   "nbconvert_exporter": "python",
   "pygments_lexer": "ipython3",
   "version": "3.11.9"
  }
 },
 "nbformat": 4,
 "nbformat_minor": 2
}
